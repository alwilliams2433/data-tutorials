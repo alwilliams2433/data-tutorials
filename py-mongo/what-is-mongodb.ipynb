{
 "cells": [
  {
   "cell_type": "markdown",
   "metadata": {},
   "source": [
    "# What is MongoDB?\n",
    "\n",
    "The title of this document is \"What is MongoDB?\" - a question that requires us to address the characteristics of MongoDB. To answer this question, we will begin by talking about SQL & NoSQL databases in general, how they came about, their characteristics and benefits.\n",
    "\n",
    "## SQL\n",
    "\n",
    "SQL databases have been around for a while now, about 40 years. They have provided tremendous usefulness to business and industry, and have been tested significantly in information heavy industries e.g., government entities.\n",
    "\n",
    "They were designed with a client-server application architecture wherein multiple client entities (these could be desktop workstations) would connect to a central dedicated server through a network.\n",
    "\n",
    "## NoSQL\n",
    "\n",
    "## NoSQL Data Models"
   ]
  },
  {
   "cell_type": "code",
   "execution_count": null,
   "metadata": {},
   "outputs": [],
   "source": []
  }
 ],
 "metadata": {
  "kernelspec": {
   "display_name": "Python 3",
   "language": "python",
   "name": "python3"
  },
  "language_info": {
   "codemirror_mode": {
    "name": "ipython",
    "version": 3
   },
   "file_extension": ".py",
   "mimetype": "text/x-python",
   "name": "python",
   "nbconvert_exporter": "python",
   "pygments_lexer": "ipython3",
   "version": "3.7.0"
  }
 },
 "nbformat": 4,
 "nbformat_minor": 2
}
